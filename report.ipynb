{
 "cells": [
  {
   "cell_type": "markdown",
   "id": "ca50f9807d81cbf0",
   "metadata": {
    "collapsed": false
   },
   "source": [
    "# Overall Description\n",
    "The research implement a real-time hand gesture recognition system using OpenCV and Python. It employs various computer vision techniques such as background subtraction, skin detection, contour detection, and template matching to detect and recognize hand gestures from a video stream.\n"
   ]
  },
  {
   "cell_type": "markdown",
   "id": "1afc001324dd1675",
   "metadata": {
    "collapsed": false
   },
   "source": [
    "# Method and Implementation\n",
    " the method and implementation aim to provide a real-time hand gesture recognition system using computer vision techniques, with the potential for applications in human-computer interaction and related domains:\n",
    " \n",
    "Video Input Setup: The code initializes a video capture device and sets its properties, such as width and height, to capture frames from a video stream.\n",
    "\n",
    "Template Loading: Pre-defined hand gesture templates are loaded from image files. These templates serve as reference patterns for recognizing specific hand gestures.\n",
    "\n",
    "Frame Processing Loop: The code enters a loop to continuously capture frames from the video stream and process them for hand gesture recognition.\n",
    "\n",
    "Background Subtraction: Background subtraction technique is used to extract the foreground objects, specifically the hand region, from the video frames.\n",
    "\n",
    "Skin Detection: Skin detection algorithm is applied to identify the skin-colored regions in the foreground, further refining the hand region.\n",
    "\n",
    "Template Matching: Template matching algorithm is employed to recognize hand gestures. Each captured frame is compared against the pre-defined hand gesture templates using methods like normalized cross-correlation.\n",
    "\n",
    "Visualization: The results of hand gesture detection and recognition are visualized in real-time. Detected hand regions and recognized gestures are overlaid on the video frames for display.\n",
    "\n",
    "Performance Evaluation: The code may include mechanisms for evaluating the performance of the hand gesture recognition algorithm, such as measuring accuracy and processing time.\n",
    "\n"
   ]
  },
  {
   "cell_type": "markdown",
   "id": "1d15cb62583a9c94",
   "metadata": {
    "collapsed": false
   },
   "source": [
    "\n",
    "# Experiments\n",
    "We created a confusion matrix from 100 frames of one of the videos of our gesture detection.\n",
    "\n",
    "|            |           |      |     | Confusion Matrix |      |     |       |                |           |\n",
    "|------------|-----------|------|-----|------------------|------|-----|-------|----------------|-----------|\n",
    "|            |           |      |     | Truth            |      |     |       |                |\n",
    "|            |           | like | ok  | five             | rock | six | point | Prediction Sum | Precision |\n",
    "|            | like      | 19   | 2   | 0                | 0    | 0   | 0     | 21             | 90.48%    |\n",
    "| Prediction | ok        | 1    | 14  | 0                | 0    | 0   | 0     | 15             | 93.33%    |\n",
    "|            | five      | 0    | 0   | 16               | 5    | 5   | 0     | 26             | 61.54%    |\n",
    "|            | rock      | 0    | 0   | 0                | 13   | 5   | 0     | 18             | 72.22%    |\n",
    "|            | six       | 0    | 4   | 4                | 2    | 10  | 0     | 20             | 50%       |\n",
    "|            | point     | 0    | 0   | 0                | 0    | 0   | 20    | 20             | 100%      |\n",
    "|            | Truth Sum | 20   | 20  | 20               | 20   | 20  | 20    | 120            |           |\n",
    "|            | Recall    | 95%  | 70% | 80%              | 65%  | 50% | 100%  |                |           |\n",
    "\n",
    "Accuracy = 76%"
   ]
  },
  {
   "cell_type": "markdown",
   "source": [
    "# Result\n",
    "Below are two instances of successful matches depicted in the following images. Each panel comprises three images. The left image, which is the largest, represents the frame retrieved from the webcam. If a matching letter is detected, it will be displayed in the top-left corner of this image. The top-right image depicts the masked input frame utilized for template matching. Lastly, the bottom-right image in each panel showcases the matched template, if found.\n",
    "\n",
    "<img src=\"images/result/output-five.png\">\n",
    "\n",
    "<img src=\"images/result/output-point.png\">\n",
    "\n",
    "<img src=\"images/result/output-ok.png\">\n",
    "\n",
    "<img src=\"images/result/output-like.png\">"
   ],
   "metadata": {
    "collapsed": false
   },
   "id": "ebad5c73dffb48a7"
  },
  {
   "cell_type": "markdown",
   "id": "d575197bb89f041c",
   "metadata": {
    "collapsed": false
   },
   "source": [
    "# Discussion\n",
    "\n",
    "\n",
    "Our results achieved an accuracy of 76%, demonstrating the success of the adopted method. However, if the hand in the video is smaller than the template's pixels or the angle does not match the template, the matching will fail. Therefore, this method has certain limitations, and there is much potential future work to enhance accuracy. For example, calculating gesture direction, introducing alternative recognition methods besides OpenCV template matching, etc."
   ]
  },
  {
   "cell_type": "markdown",
   "source": [],
   "metadata": {
    "collapsed": false
   },
   "id": "537cd30cb37604ae"
  },
  {
   "cell_type": "code",
   "execution_count": null,
   "id": "77575fb663b42ced",
   "metadata": {
    "collapsed": false
   },
   "outputs": [],
   "source": []
  }
 ],
 "metadata": {
  "kernelspec": {
   "display_name": "Python 3 (ipykernel)",
   "language": "python",
   "name": "python3"
  },
  "language_info": {
   "codemirror_mode": {
    "name": "ipython",
    "version": 3
   },
   "file_extension": ".py",
   "mimetype": "text/x-python",
   "name": "python",
   "nbconvert_exporter": "python",
   "pygments_lexer": "ipython3",
   "version": "3.11.1"
  }
 },
 "nbformat": 4,
 "nbformat_minor": 5
}
